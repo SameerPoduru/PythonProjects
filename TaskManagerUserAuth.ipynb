{
 "cells": [
  {
   "cell_type": "code",
   "execution_count": 227,
   "id": "0500f5a3-001a-4a9f-b15d-ecb5507230cc",
   "metadata": {},
   "outputs": [],
   "source": [
    "import os\n",
    "import hashlib\n",
    "import getpass\n",
    "import uuid"
   ]
  },
  {
   "cell_type": "code",
   "execution_count": 229,
   "id": "2fd0f799-45e4-4d28-a587-01228b4f3af1",
   "metadata": {},
   "outputs": [],
   "source": [
    "# Initialize user data and task data\n",
    "users = {}\n",
    "tasks = []"
   ]
  },
  {
   "cell_type": "code",
   "execution_count": 231,
   "id": "1caee915-a42e-4c89-8726-451445927e46",
   "metadata": {},
   "outputs": [],
   "source": [
    "def register_user():\n",
    "    username = input(\"Enter a username: \")\n",
    "    password = getpass.getpass(\"Enter a password: \")\n",
    "    hashed_password = hashlib.sha256(password.encode()).hexdigest()\n",
    "    if username not in users:\n",
    "        users[username] = hashed_password        \n",
    "        print(\"User registered successfully!\")\n",
    "        fp = open('users.csv','a')\n",
    "        fp.write(username+','+users[username]+'\\n')\n",
    "        fp.close()\n",
    "    else:\n",
    "        print(\"Username already exists.\")"
   ]
  },
  {
   "cell_type": "code",
   "execution_count": 233,
   "id": "9ae9d883-9a01-4fca-a191-b795e3d49ac1",
   "metadata": {},
   "outputs": [],
   "source": [
    "def login_user():\n",
    "    username = input(\"Enter your username: \")\n",
    "    password = getpass.getpass(\"Enter your password: \")\n",
    "    hashed_password = hashlib.sha256(password.encode()).hexdigest()\n",
    "    \n",
    "    if username in users and users[username] == hashed_password:\n",
    "        print(\"Login successful!\")\n",
    "        return username\n",
    "    else:\n",
    "        print(\"Invalid username or password.\")\n",
    "        return None\n"
   ]
  },
  {
   "cell_type": "code",
   "execution_count": 235,
   "id": "74eab9df-f711-47ac-a9bd-fb0a471daef7",
   "metadata": {},
   "outputs": [],
   "source": [
    "def save_tasks():\n",
    "    fp = open('tasks.csv','w')\n",
    "    for task in tasks:\n",
    "        fp.write(task['id']+','+task['username']+','+ task['description']+','+task['status']+'\\n')"
   ]
  },
  {
   "cell_type": "code",
   "execution_count": 237,
   "id": "dbb3118d-7f6a-4153-9770-20857b3fd89f",
   "metadata": {},
   "outputs": [],
   "source": [
    "def add_task(username):\n",
    "    taskId = str(uuid.uuid4())\n",
    "    task_description = input('Enter Task Description :: ')\n",
    "    tasks.append({'id':taskId,'username':username,'description':task_description,'status':'Pending'})\n",
    "    save_tasks()\n",
    "    print('Task Added Success Fully')\n"
   ]
  },
  {
   "cell_type": "code",
   "execution_count": 239,
   "id": "9d6a8795-2de9-483b-a46b-1b4ff3b7e1c9",
   "metadata": {},
   "outputs": [],
   "source": [
    "def get_user_tasks(username):\n",
    "    return list(filter(lambda task:task['username'] == username,tasks))"
   ]
  },
  {
   "cell_type": "code",
   "execution_count": 241,
   "id": "8e90ee93-07cf-44e0-ba49-29169dd3e11d",
   "metadata": {},
   "outputs": [],
   "source": [
    "def view_tasks(username):\n",
    "    user_tasks = get_user_tasks(username)\n",
    "    if(len(user_tasks) == 0):\n",
    "        print('No Tasks To View')\n",
    "    else:\n",
    "        for task in user_tasks : \n",
    "            print(f\"Task ID: {task['id']}, Description: {task['description']}, Status: {task['status']}\")\n",
    "        print('--- End of Tasks----')"
   ]
  },
  {
   "cell_type": "code",
   "execution_count": 243,
   "id": "a7868056-5098-457e-812a-e7a9d24175c8",
   "metadata": {},
   "outputs": [],
   "source": [
    "# Function to mark a task as completed\n",
    "def mark_task_completed():\n",
    "    task_id = input(\"Enter task ID to mark as completed: \")\n",
    "    for task in tasks:\n",
    "        if task[\"id\"] == task_id:\n",
    "            task[\"status\"] = \"Completed\"\n",
    "            print(\"Task marked as completed!\")\n",
    "            save_tasks()\n",
    "            return\n",
    "    print(\"Task not found.\")\n"
   ]
  },
  {
   "cell_type": "code",
   "execution_count": 245,
   "id": "7a10fcca-8317-48c5-9ecc-dac83b753f64",
   "metadata": {},
   "outputs": [],
   "source": [
    "# Function to delete a task\n",
    "def delete_task():\n",
    "    task_id = input(\"Enter task ID to delete: \")\n",
    "    for task in tasks:\n",
    "        if task[\"id\"] == task_id:\n",
    "            tasks.remove(task)\n",
    "            print(\"Task deleted successfully!\")\n",
    "            save_tasks()\n",
    "            return\n",
    "    print(\"Task not found.\")"
   ]
  },
  {
   "cell_type": "code",
   "execution_count": 247,
   "id": "93b0b5c6-bd97-445a-9b83-30129bd09366",
   "metadata": {},
   "outputs": [],
   "source": [
    "def load_users():\n",
    "     global users\n",
    "     users = {}\n",
    "     if not os.path.exists('users.csv'):\n",
    "        open('users.csv', 'w').close()     \n",
    "     fp = open('users.csv','r')\n",
    "     for line in fp:\n",
    "         username,password = line.strip().split(',')\n",
    "         users[username] = password\n",
    "     fp.close()   \n",
    "     "
   ]
  },
  {
   "cell_type": "code",
   "execution_count": 249,
   "id": "626c289f-eb28-41e8-a454-acf2ee04929a",
   "metadata": {},
   "outputs": [],
   "source": [
    "def load_tasks():\n",
    "    global tasks\n",
    "    tasks = []\n",
    "    if not os.path.exists('tasks.csv'):\n",
    "        open('tasks.csv','w').close()\n",
    "    fp = open('tasks.csv','r')\n",
    "    for line in fp:\n",
    "        taskid,username,description,status = line.strip().split(',')\n",
    "        tasks.append({'id':taskid,'username':username,'description':description,'status':status})\n",
    "    fp.close()\n",
    "    "
   ]
  },
  {
   "cell_type": "code",
   "execution_count": 255,
   "id": "d59f8884-d8b1-447a-9748-3de0e75f73d2",
   "metadata": {},
   "outputs": [],
   "source": [
    "def main():\n",
    "    load_tasks()\n",
    "    load_users()\n",
    "    while True:\n",
    "        print('\\nTask Manager')\n",
    "        print('1. Register')\n",
    "        print('2. Login')\n",
    "        print('3. Exit')\n",
    "        choice = input(\"Enter your choice :\")\n",
    "        if choice == \"1\":\n",
    "            register_user()\n",
    "        elif choice ==\"2\":\n",
    "            username = login_user()\n",
    "            if username:\n",
    "                while True:\n",
    "                    print('\\nTask Manager',username)\n",
    "                    print('1. Add Task')\n",
    "                    print('2. View Tasks')\n",
    "                    print('3. Mark Task Completed')\n",
    "                    print('4. Delete Task')\n",
    "                    print('5. Logout')\n",
    "                    task_choice = input('Enter your choice :')\n",
    "                    if task_choice == \"1\":\n",
    "                        add_task(username)\n",
    "                    elif task_choice == \"2\":\n",
    "                        view_tasks(username)\n",
    "                    elif task_choice == \"3\":\n",
    "                        mark_task_completed()\n",
    "                    elif task_choice == \"4\":\n",
    "                        delete_task()\n",
    "                    elif task_choice == \"5\":\n",
    "                        break\n",
    "                    else:\n",
    "                        print('Invalid Choice')\n",
    "        elif choice == \"3\":\n",
    "                break\n",
    "        else:\n",
    "                print('Invalid Choice')\n",
    "            \n",
    "                        \n",
    "        "
   ]
  },
  {
   "cell_type": "code",
   "execution_count": 257,
   "id": "d528a108-4ea3-4ba0-9347-eb0cec2f7a1b",
   "metadata": {},
   "outputs": [
    {
     "name": "stdout",
     "output_type": "stream",
     "text": [
      "\n",
      "Task Manager\n",
      "1. Register\n",
      "2. Login\n",
      "3. Exit\n"
     ]
    },
    {
     "name": "stdin",
     "output_type": "stream",
     "text": [
      "Enter your choice : 2\n",
      "Enter your username:  VPoduru\n",
      "Enter your password:  ········\n"
     ]
    },
    {
     "name": "stdout",
     "output_type": "stream",
     "text": [
      "Login successful!\n",
      "\n",
      "Task Manager VPoduru\n",
      "1. Add Task\n",
      "2. View Tasks\n",
      "3. Mark Task Completed\n",
      "4. Delete Task\n",
      "5. Logout\n"
     ]
    },
    {
     "name": "stdin",
     "output_type": "stream",
     "text": [
      "Enter your choice : 1\n",
      "Enter Task Description ::  Email Sameer\n"
     ]
    },
    {
     "name": "stdout",
     "output_type": "stream",
     "text": [
      "Task Added Success Fully\n",
      "\n",
      "Task Manager VPoduru\n",
      "1. Add Task\n",
      "2. View Tasks\n",
      "3. Mark Task Completed\n",
      "4. Delete Task\n",
      "5. Logout\n"
     ]
    },
    {
     "name": "stdin",
     "output_type": "stream",
     "text": [
      "Enter your choice : 1\n",
      "Enter Task Description ::  Email Chakri\n"
     ]
    },
    {
     "name": "stdout",
     "output_type": "stream",
     "text": [
      "Task Added Success Fully\n",
      "\n",
      "Task Manager VPoduru\n",
      "1. Add Task\n",
      "2. View Tasks\n",
      "3. Mark Task Completed\n",
      "4. Delete Task\n",
      "5. Logout\n"
     ]
    },
    {
     "name": "stdin",
     "output_type": "stream",
     "text": [
      "Enter your choice : 2\n"
     ]
    },
    {
     "name": "stdout",
     "output_type": "stream",
     "text": [
      "Task ID: 29733d90-8371-4999-a948-5f9bbc837c59, Description: Send Email To Vallari, Status: Pending\n",
      "Task ID: 2d912376-6b6f-4670-b926-5d06d1b038b6, Description: Send Email To Chakri, Status: Pending\n",
      "Task ID: 10813a31-56e8-4f8b-b7e1-4739da982927, Description: Email Sameer, Status: Pending\n",
      "Task ID: 4d7d879e-25a4-40d0-9aa0-98f0fc366e09, Description: Email Chakri, Status: Pending\n",
      "--- End of Tasks----\n",
      "\n",
      "Task Manager VPoduru\n",
      "1. Add Task\n",
      "2. View Tasks\n",
      "3. Mark Task Completed\n",
      "4. Delete Task\n",
      "5. Logout\n"
     ]
    },
    {
     "name": "stdin",
     "output_type": "stream",
     "text": [
      "Enter your choice : 3\n",
      "Enter task ID to mark as completed:  4d7d879e-25a4-40d0-9aa0-98f0fc366e09\n"
     ]
    },
    {
     "name": "stdout",
     "output_type": "stream",
     "text": [
      "Task marked as completed!\n",
      "\n",
      "Task Manager VPoduru\n",
      "1. Add Task\n",
      "2. View Tasks\n",
      "3. Mark Task Completed\n",
      "4. Delete Task\n",
      "5. Logout\n"
     ]
    },
    {
     "name": "stdin",
     "output_type": "stream",
     "text": [
      "Enter your choice : 2\n"
     ]
    },
    {
     "name": "stdout",
     "output_type": "stream",
     "text": [
      "Task ID: 29733d90-8371-4999-a948-5f9bbc837c59, Description: Send Email To Vallari, Status: Pending\n",
      "Task ID: 2d912376-6b6f-4670-b926-5d06d1b038b6, Description: Send Email To Chakri, Status: Pending\n",
      "Task ID: 10813a31-56e8-4f8b-b7e1-4739da982927, Description: Email Sameer, Status: Pending\n",
      "Task ID: 4d7d879e-25a4-40d0-9aa0-98f0fc366e09, Description: Email Chakri, Status: Completed\n",
      "--- End of Tasks----\n",
      "\n",
      "Task Manager VPoduru\n",
      "1. Add Task\n",
      "2. View Tasks\n",
      "3. Mark Task Completed\n",
      "4. Delete Task\n",
      "5. Logout\n"
     ]
    },
    {
     "name": "stdin",
     "output_type": "stream",
     "text": [
      "Enter your choice : 4\n",
      "Enter task ID to delete:  29733d90-8371-4999-a948-5f9bbc837c59\n"
     ]
    },
    {
     "name": "stdout",
     "output_type": "stream",
     "text": [
      "Task deleted successfully!\n",
      "\n",
      "Task Manager VPoduru\n",
      "1. Add Task\n",
      "2. View Tasks\n",
      "3. Mark Task Completed\n",
      "4. Delete Task\n",
      "5. Logout\n"
     ]
    },
    {
     "name": "stdin",
     "output_type": "stream",
     "text": [
      "Enter your choice : 2\n"
     ]
    },
    {
     "name": "stdout",
     "output_type": "stream",
     "text": [
      "Task ID: 2d912376-6b6f-4670-b926-5d06d1b038b6, Description: Send Email To Chakri, Status: Pending\n",
      "Task ID: 10813a31-56e8-4f8b-b7e1-4739da982927, Description: Email Sameer, Status: Pending\n",
      "Task ID: 4d7d879e-25a4-40d0-9aa0-98f0fc366e09, Description: Email Chakri, Status: Completed\n",
      "--- End of Tasks----\n",
      "\n",
      "Task Manager VPoduru\n",
      "1. Add Task\n",
      "2. View Tasks\n",
      "3. Mark Task Completed\n",
      "4. Delete Task\n",
      "5. Logout\n"
     ]
    },
    {
     "name": "stdin",
     "output_type": "stream",
     "text": [
      "Enter your choice : 5\n"
     ]
    },
    {
     "name": "stdout",
     "output_type": "stream",
     "text": [
      "\n",
      "Task Manager\n",
      "1. Register\n",
      "2. Login\n",
      "3. Exit\n"
     ]
    },
    {
     "name": "stdin",
     "output_type": "stream",
     "text": [
      "Enter your choice : 3\n"
     ]
    }
   ],
   "source": [
    "main()"
   ]
  },
  {
   "cell_type": "code",
   "execution_count": null,
   "id": "0fcea88c-1060-4032-8725-ec7cccee0363",
   "metadata": {},
   "outputs": [],
   "source": []
  }
 ],
 "metadata": {
  "kernelspec": {
   "display_name": "Python [conda env:base] *",
   "language": "python",
   "name": "conda-base-py"
  },
  "language_info": {
   "codemirror_mode": {
    "name": "ipython",
    "version": 3
   },
   "file_extension": ".py",
   "mimetype": "text/x-python",
   "name": "python",
   "nbconvert_exporter": "python",
   "pygments_lexer": "ipython3",
   "version": "3.12.7"
  }
 },
 "nbformat": 4,
 "nbformat_minor": 5
}
