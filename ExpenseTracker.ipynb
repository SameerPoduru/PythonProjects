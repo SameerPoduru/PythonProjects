{
 "cells": [
  {
   "cell_type": "code",
   "execution_count": 3,
   "id": "a30a8c8a-c922-45cb-9a4d-84d87f39a69b",
   "metadata": {},
   "outputs": [
    {
     "name": "stdout",
     "output_type": "stream",
     "text": [
      "\n",
      "\n",
      "1. Add Expense\n",
      "2. View Expenses\n",
      "3. Track Budget\n",
      "4. Save Expenses\n",
      "5. Exit\n"
     ]
    },
    {
     "name": "stdin",
     "output_type": "stream",
     "text": [
      "Choose an option 3\n",
      "Enter your monthly budget:  3000\n"
     ]
    },
    {
     "name": "stdout",
     "output_type": "stream",
     "text": [
      "Your expenses total to $350.00\n",
      "You have $2650.00 remaining\n",
      "\n",
      "\n",
      "1. Add Expense\n",
      "2. View Expenses\n",
      "3. Track Budget\n",
      "4. Save Expenses\n",
      "5. Exit\n"
     ]
    },
    {
     "name": "stdin",
     "output_type": "stream",
     "text": [
      "Choose an option 4\n"
     ]
    },
    {
     "name": "stdout",
     "output_type": "stream",
     "text": [
      "Expenses saved !!!\n",
      "\n",
      "\n",
      "1. Add Expense\n",
      "2. View Expenses\n",
      "3. Track Budget\n",
      "4. Save Expenses\n",
      "5. Exit\n"
     ]
    },
    {
     "name": "stdin",
     "output_type": "stream",
     "text": [
      "Choose an option 5\n"
     ]
    },
    {
     "name": "stdout",
     "output_type": "stream",
     "text": [
      "Exiting the expense tracker\n"
     ]
    }
   ],
   "source": [
    "import os\n",
    "\n",
    "expenses = []\n",
    "\n",
    "def add_an_expense():\n",
    "    date_of_expense = input('Enter date (YYYY-MM-DD): ')\n",
    "    expense_category = input('Enter category (Food, Transport, Entertainment, etc.):')\n",
    "    expense_amt = float(input('Enter amount :'))\n",
    "    expense = {'date':date_of_expense,'category':expense_category,'amount':expense_amt}\n",
    "    expenses.append(expense)\n",
    "    print('Expense Added to the list')\n",
    "    \n",
    "def view_expenses():\n",
    "    if not expenses:\n",
    "        print('No expenses recorded')\n",
    "    else:\n",
    "        print('Date      | Category      | Amount')\n",
    "        for expense in expenses:\n",
    "            if( expense['date'] and expense['category'] and expense['amount']):\n",
    "                print('{}        | {}        | {}    '.format(expense['date'], expense['category'],expense['amount']))\n",
    "\n",
    "def set_track_budget():\n",
    "    amt = 0.0\n",
    "    budget = float(input('Enter your monthly budget: '))\n",
    "    for expense in expenses:\n",
    "        amt = amt + expense['amount']\n",
    "    if amt > budget :\n",
    "        print('You have exceeded your budget!')\n",
    "        print(f'Your expenses total to ${amt:.2f}')\n",
    "    else:\n",
    "        remaining_budget = budget - amt\n",
    "        print(f'Your expenses total to ${amt:.2f}')\n",
    "        print(f'You have ${remaining_budget:.2f} remaining')\n",
    "\n",
    "def save_expenses():\n",
    "    fp = open('expenses.csv','w')\n",
    "    for expense in expenses :\n",
    "        fp.write(expense['date']+','+expense['category']+','+str(expense['amount'])+'\\n')\n",
    "    fp.close()\n",
    "    print('Expenses saved !!!')\n",
    "\n",
    "def load_expenses():\n",
    "    if not os.path.exists('expenses.csv'):\n",
    "        open('expenses.csv', 'w').close()       \n",
    "  \n",
    "    fp = open('expenses.csv','r+')\n",
    "    for line in fp:\n",
    "        expense_date,category,amount = line.strip().split(',')\n",
    "        expense = {'date':expense_date,'category':category,'amount':float(amount)}\n",
    "        expenses.append(expense)\n",
    "    fp.close()\n",
    "\n",
    "def main():\n",
    "    load_expenses()\n",
    "    while True:\n",
    "        print('\\n')\n",
    "        print(\"1. Add Expense\")\n",
    "        print(\"2. View Expenses\")\n",
    "        print(\"3. Track Budget\")\n",
    "        print(\"4. Save Expenses\")\n",
    "        print(\"5. Exit\")\n",
    "        choice = input('Choose an option')\n",
    "        if choice == \"1\":\n",
    "            add_an_expense()\n",
    "        elif choice == \"2\":\n",
    "            view_expenses()\n",
    "        elif choice == \"3\":\n",
    "            set_track_budget()\n",
    "        elif choice == \"4\":\n",
    "            save_expenses()\n",
    "        elif choice == \"5\":\n",
    "            print('Exiting the expense tracker')\n",
    "            break\n",
    "        else:\n",
    "            print('Invalid Choice ! Please try again \\n')\n",
    "\n",
    "main() \n"
   ]
  },
  {
   "cell_type": "code",
   "execution_count": null,
   "id": "c568a617-364d-4744-bff1-7cfd5faa0f4c",
   "metadata": {},
   "outputs": [],
   "source": []
  }
 ],
 "metadata": {
  "kernelspec": {
   "display_name": "Python [conda env:base] *",
   "language": "python",
   "name": "conda-base-py"
  },
  "language_info": {
   "codemirror_mode": {
    "name": "ipython",
    "version": 3
   },
   "file_extension": ".py",
   "mimetype": "text/x-python",
   "name": "python",
   "nbconvert_exporter": "python",
   "pygments_lexer": "ipython3",
   "version": "3.12.7"
  }
 },
 "nbformat": 4,
 "nbformat_minor": 5
}
